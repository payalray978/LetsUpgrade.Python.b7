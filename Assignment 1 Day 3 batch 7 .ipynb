{
 "cells": [
  {
   "cell_type": "markdown",
   "metadata": {},
   "source": [
    "#     solution of question first"
   ]
  },
  {
   "cell_type": "code",
   "execution_count": 4,
   "metadata": {},
   "outputs": [
    {
     "name": "stdout",
     "output_type": "stream",
     "text": [
      "landing the plane:1000\n",
      "safe to land\n"
     ]
    }
   ],
   "source": [
    "a=int(input(\"landing the plane:\"))\n",
    "if a<=1000:\n",
    "    print(\"safe to land\")\n",
    "elif a>1000 and a<5000:\n",
    "    print(\"bring down to 1000ft\")\n",
    "elif a>5000:\n",
    "    print(\"go around and try later\")"
   ]
  },
  {
   "cell_type": "code",
   "execution_count": null,
   "metadata": {},
   "outputs": [],
   "source": []
  }
 ],
 "metadata": {
  "kernelspec": {
   "display_name": "Python 3",
   "language": "python",
   "name": "python3"
  },
  "language_info": {
   "codemirror_mode": {
    "name": "ipython",
    "version": 3
   },
   "file_extension": ".py",
   "mimetype": "text/x-python",
   "name": "python",
   "nbconvert_exporter": "python",
   "pygments_lexer": "ipython3",
   "version": "3.8.3"
  }
 },
 "nbformat": 4,
 "nbformat_minor": 4
}
